import random
play_again = True
def deal_card():
    cards = [11,2,3,4,5,6,7,8,9,10,10,10,10]
    return random.choice(cards)
def calculate_score(a):
    if sum(a)>21 and 11 in a:
      a.remove(11)
      a.append(1)
    return sum(a)
def compare_Score(a,b):
  if a > b:
    return f"{a}"
  if a == b:
    return f"Draw! {a}={b}"
  if b>a:
    return f"{b}"
def one_more_chance(a,b):
  a.append(deal_card())
  b.append(deal_card())
  return f"Your cards: {user_cards}, Computers cards: {computer_cards}"
user_cards = []
computer_cards = []

while play_again:

  for i in range(2):
    user_cards.append(deal_card())
    computer_cards.append(deal_card())

  print(f"Your cards: {user_cards}")
  print(f"Computers first card: {computer_cards[0]}")

  if 0 in user_cards:
    print(f"{user_cards} wins!")
  if 0 in computer_cards:
    print(f"{computer_cards} wins!")

  user_score = calculate_score(user_cards)
  computer_score = calculate_score(computer_cards)
  print(f"user_score is: {user_score}")
  print(f"computer_score is: {computer_score}")

  decision = input("Type 'y' to get another card, type 'n' to pass: ").lower()
  if decision == 'y':
    chance1 = one_more_chance(user_cards,computer_cards)
    user_score = calculate_score(user_cards)
    computer_score = calculate_score(computer_cards)
    result2 = compare_Score(user_score,computer_score)
    print(f"user_score is: {user_score}")
    print(f"computer_score is: {computer_score}")
    print(chance1)
    print(result2)

  if decision == 'n':
    result1 = compare_Score(user_score,computer_score)
    print(result1)
  
  play_again_loop = input("Do you want to play another game of black jack? Y or N: ").upper()
  if play_again_loop == "N":
    result1 = compare_Score(user_cards,computer_cards)
    print(result1)
    play_again = False
  if play_again_loop == "Y":
    a = one_more_chance(user_cards,computer_cards)
    print(a)
compare_Score(user_cards,computer_cards)
